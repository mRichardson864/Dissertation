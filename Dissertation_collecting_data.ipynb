{
 "cells": [
  {
   "cell_type": "code",
   "execution_count": 2,
   "metadata": {},
   "outputs": [],
   "source": [
    "#Imports\n",
    "import pyarrow\n",
    "import feather\n",
    "import time\n",
    "import json\n",
    "import pandas\n",
    "import csv\n",
    "import string\n",
    "import re\n",
    "import tables\n",
    "import numpy as np\n",
    "import pyarrow.feather as pf\n",
    "\n",
    "\n",
    "from tables import *\n",
    "from datetime import datetime"
   ]
  },
  {
   "cell_type": "code",
   "execution_count": 3,
   "metadata": {},
   "outputs": [],
   "source": [
    "# Singling CSV for hydration\n",
    "# takes in csv file from online dataset and produces a csv of the twitter ids allowing us to rehydrate them\n",
    "\n",
    "fileString = 'corona_tweets_14.csv' #the first one to be added\n",
    "hydrateString = 'ids_to_hydrate1.csv' #The first one that will be added\n",
    "j = 13 #hydrate string - 1\n",
    "\n",
    "for i in range(14, 44):\n",
    "    fileString = fileString.replace(str(i-1), str(i)) #\n",
    "    print(fileString)\n",
    "    data = pandas.read_csv(fileString, header = None)\n",
    "    ids = data[0]\n",
    "    hydrateString = hydrateString.replace(str(j), str(j+1))\n",
    "    ids.to_csv(hydrateString, header=None, index=None)\n",
    "    j = j+1"
   ]
  },
  {
   "cell_type": "code",
   "execution_count": null,
   "metadata": {},
   "outputs": [],
   "source": [
    "#This cell reads in each data file and stores the desired contents of each tweet in a data frame. It combines all the\n",
    "# data for the whole data range (all of April 2020) and saves it as a singe .feather file with the path specified at the\n",
    "# bottom\n",
    "\n",
    "#Function that converts the time into a readable format\n",
    "def convTime(dtime):\n",
    "    new_datetime = datetime.strftime(datetime.strptime(dtime,'%a %b %d %H:%M:%S +0000 %Y'), '%d-%m-%Y')\n",
    "    return new_datetime\n",
    "\n",
    "\n",
    "#Filename of the first dataset file to extract the sentiment values from\n",
    "fileString = 'corona_tweets_14.csv'\n",
    "#Filename of the first hydrated file to read from\n",
    "hydratedString = 'april1'\n",
    "#Define the master dataframe\n",
    "megaTable = pandas.DataFrame()\n",
    "\n",
    "\n",
    "for j in range(1,31): \n",
    "    print(\"day number:\" + str(j))\n",
    "    plotdf = pandas.DataFrame(columns=['tweetid', 'text','date','sentiment']) #temporary dataframe\n",
    "    i = 0;\n",
    "    fileString = fileString.replace(str(j+12), str(j+13)) #update dataset file name to read from\n",
    "    sentiment_data = pandas.read_csv(fileString, header=None)\n",
    "    hydratedString = \"april\" + str(j) #update hydrated file name to read from\n",
    "    \n",
    "    with open(hydratedString, 'r', encoding=\"utf8\") as json_file:\n",
    "        json_list = list(json_file)\n",
    "        \n",
    "    for json_str in json_list: #For each tweet extract the meaningful data\n",
    "        result = json.loads(json_str)\n",
    "        current_sentiment_index = sentiment_data.loc[sentiment_data[0] == int(result['id_str'])].index[0]\n",
    "        current_sentiment_value = sentiment_data.loc[current_sentiment_index][1]\n",
    "        plotdf.loc[i] = [result['id_str'] , result['full_text'], convTime(result['created_at']), current_sentiment_value]\n",
    "        i = i+1\n",
    "    \n",
    "    frames = [megaTable, plotdf]\n",
    "    megaTable = pandas.concat(frames)\n",
    "    \n",
    "\n",
    "#Output file for the feather file\n",
    "path = 'april_data.feather'\n",
    "feather.write_dataframe(megaTable, path)"
   ]
  }
 ],
 "metadata": {
  "kernelspec": {
   "display_name": "Python 3",
   "language": "python",
   "name": "python3"
  },
  "language_info": {
   "codemirror_mode": {
    "name": "ipython",
    "version": 3
   },
   "file_extension": ".py",
   "mimetype": "text/x-python",
   "name": "python",
   "nbconvert_exporter": "python",
   "pygments_lexer": "ipython3",
   "version": "3.7.0"
  }
 },
 "nbformat": 4,
 "nbformat_minor": 2
}
